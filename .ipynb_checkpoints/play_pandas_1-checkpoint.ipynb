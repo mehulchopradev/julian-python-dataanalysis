{
 "cells": [
  {
   "cell_type": "code",
   "execution_count": 4,
   "metadata": {},
   "outputs": [],
   "source": [
    "from pandas import Series\n",
    "import numpy as np"
   ]
  },
  {
   "cell_type": "code",
   "execution_count": 5,
   "metadata": {
    "scrolled": true
   },
   "outputs": [
    {
     "name": "stdout",
     "output_type": "stream",
     "text": [
      "0     4\n",
      "1     5\n",
      "2    10\n",
      "3     6\n",
      "4     4\n",
      "5     5\n",
      "6     5\n",
      "7     9\n",
      "dtype: int16\n",
      "<class 'pandas.core.series.Series'>\n"
     ]
    }
   ],
   "source": [
    "pointers = [4, 5, 10, 6, 4, 5, 5, 9]\n",
    "s1 = Series(pointers, dtype=np.int16)\n",
    "print(s1)\n",
    "print(type(s1))"
   ]
  },
  {
   "cell_type": "code",
   "execution_count": 6,
   "metadata": {},
   "outputs": [
    {
     "name": "stdout",
     "output_type": "stream",
     "text": [
      "1      4\n",
      "10     5\n",
      "5     10\n",
      "7      6\n",
      "3      4\n",
      "2      5\n",
      "11     5\n",
      "12     9\n",
      "dtype: int16\n",
      "<class 'pandas.core.series.Series'>\n"
     ]
    }
   ],
   "source": [
    "roll_nos = [1, 10, 5, 7, 3, 2, 11, 12]\n",
    "s2 = Series(pointers, index=roll_nos, dtype=np.int16)\n",
    "print(s2)\n",
    "print(type(s2))"
   ]
  },
  {
   "cell_type": "code",
   "execution_count": 7,
   "metadata": {},
   "outputs": [
    {
     "name": "stdout",
     "output_type": "stream",
     "text": [
      "10     4\n",
      "23    10\n",
      "2      5\n",
      "5      6\n",
      "9     10\n",
      "dtype: int16\n",
      "<class 'pandas.core.series.Series'>\n"
     ]
    }
   ],
   "source": [
    "sd = {10: 4, 23: 10, 2: 5, 5: 6, 9: 10}\n",
    "s3 = Series(sd, dtype=np.int16)\n",
    "print(s3)\n",
    "print(type(s3))"
   ]
  },
  {
   "cell_type": "code",
   "execution_count": 11,
   "metadata": {},
   "outputs": [
    {
     "name": "stdout",
     "output_type": "stream",
     "text": [
      "1      4\n",
      "10     5\n",
      "5     10\n",
      "7      6\n",
      "3      4\n",
      "2      5\n",
      "11     5\n",
      "12     9\n",
      "dtype: int16\n",
      "Int64Index([1, 10, 5, 7, 3, 2, 11, 12], dtype='int64')\n",
      "[ 4  5 10  6  4  5  5  9]\n",
      "<class 'numpy.ndarray'>\n"
     ]
    }
   ],
   "source": [
    "print(s2)\n",
    "print(s2.index)\n",
    "v = s2.values\n",
    "print(v)\n",
    "print(type(v))"
   ]
  },
  {
   "cell_type": "code",
   "execution_count": 19,
   "metadata": {},
   "outputs": [
    {
     "name": "stdout",
     "output_type": "stream",
     "text": [
      "1      4\n",
      "10     5\n",
      "5     10\n",
      "7      6\n",
      "3      4\n",
      "2      5\n",
      "11     5\n",
      "12     9\n",
      "dtype: int16\n",
      "6\n",
      "5\n",
      "10    5\n",
      "2     5\n",
      "11    5\n",
      "dtype: int16\n",
      "<class 'pandas.core.series.Series'>\n",
      "4\n",
      "9\n",
      "1      4\n",
      "10     5\n",
      "5     10\n",
      "7      8\n",
      "3      4\n",
      "2      5\n",
      "11     5\n",
      "12     9\n",
      "dtype: int16\n"
     ]
    }
   ],
   "source": [
    "# indexing\n",
    "print(s2)\n",
    "# index on basis of rollno\n",
    "print(s2.loc[7])\n",
    "print(s2.loc[11])\n",
    "ss = s2.loc[[10, 2, 11]]\n",
    "print(ss)\n",
    "print(type(ss))\n",
    "\n",
    "# index on basis of the implicit 0 based index\n",
    "print(s2.iloc[0])\n",
    "print(s2.iloc[-1])\n",
    "\n",
    "# indexing + assignment\n",
    "s2.loc[7] = 8\n",
    "print(s2)"
   ]
  },
  {
   "cell_type": "code",
   "execution_count": 23,
   "metadata": {},
   "outputs": [
    {
     "name": "stdout",
     "output_type": "stream",
     "text": [
      "1      4\n",
      "10     5\n",
      "5     10\n",
      "7      8\n",
      "3      4\n",
      "2      5\n",
      "11     5\n",
      "12     9\n",
      "dtype: int16\n",
      "1     False\n",
      "10    False\n",
      "5      True\n",
      "7      True\n",
      "3     False\n",
      "2     False\n",
      "11    False\n",
      "12     True\n",
      "dtype: bool\n",
      "5     10\n",
      "7      8\n",
      "12     9\n",
      "dtype: int16\n"
     ]
    }
   ],
   "source": [
    "# filtering\n",
    "print(s2)\n",
    "print(s2 > 5) # boolean series\n",
    "\n",
    "print(s2.loc[s2 > 5]) # print(s2.loc[[5, 7, 12]])\n",
    "\n",
    "s2.loc[3] = 6\n",
    "s2.loc[11] = 8"
   ]
  },
  {
   "cell_type": "code",
   "execution_count": 29,
   "metadata": {},
   "outputs": [
    {
     "name": "stdout",
     "output_type": "stream",
     "text": [
      "1      4\n",
      "10     5\n",
      "5     10\n",
      "7      8\n",
      "3      6\n",
      "2      5\n",
      "11     8\n",
      "12     9\n",
      "dtype: int16\n",
      "1     False\n",
      "10    False\n",
      "5      True\n",
      "7      True\n",
      "3      True\n",
      "2     False\n",
      "11     True\n",
      "12    False\n",
      "dtype: bool\n",
      "5     10\n",
      "7      8\n",
      "3      6\n",
      "11     8\n",
      "dtype: int16\n"
     ]
    }
   ],
   "source": [
    "print(s2)\n",
    "print((s2 % 2 == 0) & (s2 > 5))\n",
    "\n",
    "print(s2.loc[(s2 % 2 == 0) & (s2 > 5)])"
   ]
  },
  {
   "cell_type": "code",
   "execution_count": 32,
   "metadata": {},
   "outputs": [
    {
     "name": "stdout",
     "output_type": "stream",
     "text": [
      "1      4\n",
      "10     5\n",
      "5     10\n",
      "7      8\n",
      "3      6\n",
      "2      5\n",
      "11     8\n",
      "12     9\n",
      "dtype: int16\n",
      "2     5\n",
      "11    8\n",
      "12    9\n",
      "dtype: int16\n",
      "1      4\n",
      "10     5\n",
      "5     10\n",
      "dtype: int16\n"
     ]
    }
   ],
   "source": [
    "print(s2)\n",
    "# slicing\n",
    "# give me a series of the last 3 pointers\n",
    "# implict index slicing\n",
    "print(s2.iloc[-3:])\n",
    "\n",
    "# explicit index slicing\n",
    "print(s2.loc[1:5]) # end index is inclusive"
   ]
  }
 ],
 "metadata": {
  "kernelspec": {
   "display_name": "Python 3",
   "language": "python",
   "name": "python3"
  },
  "language_info": {
   "codemirror_mode": {
    "name": "ipython",
    "version": 3
   },
   "file_extension": ".py",
   "mimetype": "text/x-python",
   "name": "python",
   "nbconvert_exporter": "python",
   "pygments_lexer": "ipython3",
   "version": "3.7.1"
  }
 },
 "nbformat": 4,
 "nbformat_minor": 2
}
