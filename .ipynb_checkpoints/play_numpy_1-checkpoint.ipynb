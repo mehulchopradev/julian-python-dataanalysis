{
 "cells": [
  {
   "cell_type": "code",
   "execution_count": 3,
   "metadata": {},
   "outputs": [
    {
     "name": "stdout",
     "output_type": "stream",
     "text": [
      "good morning\n"
     ]
    }
   ],
   "source": [
    "print('good morning')"
   ]
  },
  {
   "cell_type": "code",
   "execution_count": 4,
   "metadata": {},
   "outputs": [
    {
     "name": "stdout",
     "output_type": "stream",
     "text": [
      "good night\n"
     ]
    }
   ],
   "source": [
    "print('good night')"
   ]
  },
  {
   "cell_type": "code",
   "execution_count": 5,
   "metadata": {},
   "outputs": [],
   "source": [
    "import numpy as np"
   ]
  },
  {
   "cell_type": "code",
   "execution_count": 6,
   "metadata": {},
   "outputs": [],
   "source": [
    "pointers = [1, 3, 3, 5, 10, 10, 9, 8]"
   ]
  },
  {
   "cell_type": "code",
   "execution_count": 11,
   "metadata": {},
   "outputs": [
    {
     "name": "stdout",
     "output_type": "stream",
     "text": [
      "[ 1  3  3  5 10 10  9  8]\n",
      "<class 'numpy.ndarray'>\n",
      "(8,)\n",
      "1\n",
      "int16\n"
     ]
    }
   ],
   "source": [
    "n1 = np.array(pointers, dtype=np.int16)\n",
    "print(n1)\n",
    "print(type(n1))\n",
    "print(n1.shape)\n",
    "print(n1.ndim)\n",
    "print(n1.dtype)"
   ]
  },
  {
   "cell_type": "code",
   "execution_count": 14,
   "metadata": {},
   "outputs": [
    {
     "name": "stdout",
     "output_type": "stream",
     "text": [
      "[0 2 2 4 9 9 8 7]\n",
      "[  1   9   9  25 100 100  81  64]\n"
     ]
    }
   ],
   "source": [
    "# vectorized operations\n",
    "deducted_marks = n1 - 1\n",
    "print(deducted_marks)\n",
    "print(n1 ** 2)"
   ]
  },
  {
   "cell_type": "code",
   "execution_count": 20,
   "metadata": {},
   "outputs": [
    {
     "name": "stdout",
     "output_type": "stream",
     "text": [
      "[ 1  3  3  5 10 10  9  8]\n",
      "[10 10  9  8]\n",
      "[1 3 3]\n"
     ]
    }
   ],
   "source": [
    "# filtering\n",
    "print(n1)\n",
    "morethan5 = n1[n1 > 5]\n",
    "print(morethan5)\n",
    "odd_pointers = n1[(n1 % 2 != 0) & (n1 < 5)]\n",
    "print(odd_pointers)"
   ]
  },
  {
   "cell_type": "code",
   "execution_count": 24,
   "metadata": {},
   "outputs": [
    {
     "name": "stdout",
     "output_type": "stream",
     "text": [
      "[ 1  3  3  5 10 10  9  8]\n",
      "1\n",
      "8\n",
      "[1 8]\n"
     ]
    }
   ],
   "source": [
    "# indexing\n",
    "print(n1)\n",
    "print(n1[0])\n",
    "print(n1[-1])\n",
    "print(n1[[0, -1]])"
   ]
  },
  {
   "cell_type": "code",
   "execution_count": 27,
   "metadata": {},
   "outputs": [
    {
     "name": "stdout",
     "output_type": "stream",
     "text": [
      "[ 1  3  3  5 10 10  9  8]\n",
      "[1 3 3]\n",
      "[10  9  8]\n"
     ]
    }
   ],
   "source": [
    "# slicing\n",
    "print(n1)\n",
    "print(n1[:3])\n",
    "print(n1[-3:])"
   ]
  },
  {
   "cell_type": "code",
   "execution_count": 30,
   "metadata": {},
   "outputs": [
    {
     "name": "stdout",
     "output_type": "stream",
     "text": [
      "[ 1  3  3  5 10 10  9  9]\n",
      "[ 1  3  3  5 10 10  9  9]\n",
      "[ 1  9  3  5 10 10 10  9]\n"
     ]
    }
   ],
   "source": [
    "# indexing + assignment\n",
    "print(n1)\n",
    "n1[-1] = 9\n",
    "print(n1)\n",
    "n1[[1, -2]] = [9, 10]\n",
    "print(n1)"
   ]
  },
  {
   "cell_type": "code",
   "execution_count": 33,
   "metadata": {},
   "outputs": [
    {
     "name": "stdout",
     "output_type": "stream",
     "text": [
      "[ 1  9  3  5 10 10 10  9]\n",
      "[ 4  4 10  5 10 10 10  9]\n"
     ]
    }
   ],
   "source": [
    "# slicing + assignment\n",
    "print(n1)\n",
    "n1[:3] = [4, 4, 10]\n",
    "print(n1)"
   ]
  },
  {
   "cell_type": "code",
   "execution_count": 40,
   "metadata": {},
   "outputs": [
    {
     "name": "stdout",
     "output_type": "stream",
     "text": [
      "[ 4  4 10  5 10 10 10  9]\n",
      "10\n",
      "4\n",
      "7.75\n",
      "2.680951323690902\n",
      "7.1875\n",
      "[ 4  8 18 23 33 43 53 62]\n"
     ]
    }
   ],
   "source": [
    "# aggregation functions\n",
    "print(n1)\n",
    "print(n1.max())\n",
    "print(n1.min())\n",
    "print(n1.mean())\n",
    "print(n1.std())\n",
    "print(n1.var())\n",
    "print(n1.cumsum())"
   ]
  },
  {
   "cell_type": "code",
   "execution_count": 42,
   "metadata": {},
   "outputs": [
    {
     "name": "stdout",
     "output_type": "stream",
     "text": [
      "[ 4  4 10  5 10 10 10  9]\n",
      "[0 0 1 0 1 1 1 1]\n"
     ]
    }
   ],
   "source": [
    "print(n1)\n",
    "weighted_ar = np.where(n1 > 5, 1, 0)\n",
    "print(weighted_ar)"
   ]
  },
  {
   "cell_type": "code",
   "execution_count": 44,
   "metadata": {},
   "outputs": [
    {
     "name": "stdout",
     "output_type": "stream",
     "text": [
      "[ 4  4  5  9 10 10 10 10]\n"
     ]
    }
   ],
   "source": [
    "n1.sort()\n",
    "print(n1)"
   ]
  },
  {
   "cell_type": "code",
   "execution_count": null,
   "metadata": {},
   "outputs": [],
   "source": []
  }
 ],
 "metadata": {
  "kernelspec": {
   "display_name": "Python 3",
   "language": "python",
   "name": "python3"
  },
  "language_info": {
   "codemirror_mode": {
    "name": "ipython",
    "version": 3
   },
   "file_extension": ".py",
   "mimetype": "text/x-python",
   "name": "python",
   "nbconvert_exporter": "python",
   "pygments_lexer": "ipython3",
   "version": "3.7.1"
  }
 },
 "nbformat": 4,
 "nbformat_minor": 2
}
