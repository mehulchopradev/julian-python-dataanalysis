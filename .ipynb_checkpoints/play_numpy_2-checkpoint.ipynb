{
 "cells": [
  {
   "cell_type": "code",
   "execution_count": 1,
   "metadata": {},
   "outputs": [],
   "source": [
    "import numpy as np"
   ]
  },
  {
   "cell_type": "code",
   "execution_count": 2,
   "metadata": {},
   "outputs": [],
   "source": [
    "pcm = [\n",
    "    [93, 99, 100],\n",
    "    [92, 80, 56],\n",
    "    [89, 89, 45]\n",
    "]"
   ]
  },
  {
   "cell_type": "code",
   "execution_count": 5,
   "metadata": {},
   "outputs": [
    {
     "name": "stdout",
     "output_type": "stream",
     "text": [
      "[[ 93  99 100]\n",
      " [ 92  80  56]\n",
      " [ 89  89  45]]\n",
      "<class 'numpy.ndarray'>\n",
      "2\n",
      "(3, 3)\n"
     ]
    }
   ],
   "source": [
    "n1 = np.array(pcm, dtype=np.int16)\n",
    "print(n1)\n",
    "print(type(n1))\n",
    "print(n1.ndim)\n",
    "print(n1.shape)"
   ]
  },
  {
   "cell_type": "code",
   "execution_count": 12,
   "metadata": {},
   "outputs": [
    {
     "name": "stdout",
     "output_type": "stream",
     "text": [
      "[[ 93  99 100]\n",
      " [ 92  80  56]\n",
      " [ 89  89  45]]\n",
      "[ 93  99 100]\n",
      "[89 89 45]\n",
      "[[ 93  99 100]\n",
      " [ 89  89  45]]\n",
      "45\n",
      "45\n"
     ]
    }
   ],
   "source": [
    "print(n1)\n",
    "# indexing\n",
    "print(n1[0])\n",
    "print(n1[-1])\n",
    "print(n1[[0, -1]])\n",
    "print(n1[-1][-1]) # not so effecient in numpy\n",
    "print(n1[-1, -1]) # much more optimized and preferred in numpy"
   ]
  },
  {
   "cell_type": "code",
   "execution_count": 15,
   "metadata": {},
   "outputs": [
    {
     "name": "stdout",
     "output_type": "stream",
     "text": [
      "[[ 93  99 100]\n",
      " [ 92  80  56]\n",
      " [ 89  89  45]]\n",
      "[[92 99 98]\n",
      " [91 80 54]\n",
      " [88 89 43]]\n"
     ]
    }
   ],
   "source": [
    "print(n1)\n",
    "deducted_marks = n1 - [1, 0, 2]\n",
    "print(deducted_marks) # broadcasting"
   ]
  },
  {
   "cell_type": "code",
   "execution_count": 19,
   "metadata": {},
   "outputs": [
    {
     "name": "stdout",
     "output_type": "stream",
     "text": [
      "[[ 93  99 100]\n",
      " [ 92  80  56]\n",
      " [ 89  89  45]]\n",
      "[[ 92  99 100]\n",
      " [ 92  80  56]\n",
      " [ 87  89  45]]\n"
     ]
    }
   ],
   "source": [
    "print(n1)\n",
    "n2 = n1 - [\n",
    "    [1, 0, 0],\n",
    "    [0, 0, 0],\n",
    "    [2, 0, 0]\n",
    "]\n",
    "print(n2) # broadcasting"
   ]
  },
  {
   "cell_type": "code",
   "execution_count": 22,
   "metadata": {},
   "outputs": [
    {
     "name": "stdout",
     "output_type": "stream",
     "text": [
      "[[ 93  99 100]\n",
      " [ 92  80  56]\n",
      " [ 89  89  45]]\n",
      "[292 228 223]\n",
      "[91.33333333 89.33333333 67.        ]\n"
     ]
    }
   ],
   "source": [
    "# aggregation\n",
    "print(n1)\n",
    "print(n1.sum(axis=1))\n",
    "print(n1.mean(axis=0))"
   ]
  },
  {
   "cell_type": "code",
   "execution_count": 23,
   "metadata": {},
   "outputs": [
    {
     "name": "stdout",
     "output_type": "stream",
     "text": [
      "[[10 10  4]\n",
      " [ 9  6 10]\n",
      " [ 9 10  1]]\n"
     ]
    }
   ],
   "source": [
    "n3 = np.array([\n",
    "    [10, 10, 4],\n",
    "    [9, 6, 10],\n",
    "    [9, 10, 1]\n",
    "])\n",
    "print(n3)"
   ]
  },
  {
   "cell_type": "code",
   "execution_count": 25,
   "metadata": {},
   "outputs": [
    {
     "data": {
      "text/plain": [
       "7.666666666666667"
      ]
     },
     "execution_count": 25,
     "metadata": {},
     "output_type": "execute_result"
    }
   ],
   "source": [
    "n3.flatten().mean()"
   ]
  }
 ],
 "metadata": {
  "kernelspec": {
   "display_name": "Python 3",
   "language": "python",
   "name": "python3"
  },
  "language_info": {
   "codemirror_mode": {
    "name": "ipython",
    "version": 3
   },
   "file_extension": ".py",
   "mimetype": "text/x-python",
   "name": "python",
   "nbconvert_exporter": "python",
   "pygments_lexer": "ipython3",
   "version": "3.7.1"
  }
 },
 "nbformat": 4,
 "nbformat_minor": 2
}
