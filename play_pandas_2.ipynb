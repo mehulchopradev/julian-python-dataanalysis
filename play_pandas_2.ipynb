{
 "cells": [
  {
   "cell_type": "code",
   "execution_count": 52,
   "metadata": {},
   "outputs": [],
   "source": [
    "from pandas import DataFrame, Series\n",
    "import pandas as pd\n",
    "import matplotlib.pyplot as plt"
   ]
  },
  {
   "cell_type": "code",
   "execution_count": 3,
   "metadata": {},
   "outputs": [
    {
     "data": {
      "text/html": [
       "<div>\n",
       "<style scoped>\n",
       "    .dataframe tbody tr th:only-of-type {\n",
       "        vertical-align: middle;\n",
       "    }\n",
       "\n",
       "    .dataframe tbody tr th {\n",
       "        vertical-align: top;\n",
       "    }\n",
       "\n",
       "    .dataframe thead th {\n",
       "        text-align: right;\n",
       "    }\n",
       "</style>\n",
       "<table border=\"1\" class=\"dataframe\">\n",
       "  <thead>\n",
       "    <tr style=\"text-align: right;\">\n",
       "      <th></th>\n",
       "      <th>Name</th>\n",
       "      <th>Physics</th>\n",
       "      <th>Chemistry</th>\n",
       "    </tr>\n",
       "  </thead>\n",
       "  <tbody>\n",
       "    <tr>\n",
       "      <th>0</th>\n",
       "      <td>mehul</td>\n",
       "      <td>99</td>\n",
       "      <td>93</td>\n",
       "    </tr>\n",
       "    <tr>\n",
       "      <th>1</th>\n",
       "      <td>julian</td>\n",
       "      <td>98</td>\n",
       "      <td>95</td>\n",
       "    </tr>\n",
       "    <tr>\n",
       "      <th>2</th>\n",
       "      <td>jane</td>\n",
       "      <td>90</td>\n",
       "      <td>80</td>\n",
       "    </tr>\n",
       "  </tbody>\n",
       "</table>\n",
       "</div>"
      ],
      "text/plain": [
       "     Name  Physics  Chemistry\n",
       "0   mehul       99         93\n",
       "1  julian       98         95\n",
       "2    jane       90         80"
      ]
     },
     "execution_count": 3,
     "metadata": {},
     "output_type": "execute_result"
    }
   ],
   "source": [
    "marks = {\n",
    "    'Name': ['mehul', 'julian', 'jane'],\n",
    "    'Physics': [99, 98, 90],\n",
    "    'Chemistry': [93, 95, 80]\n",
    "}\n",
    "d1 = DataFrame(marks)\n",
    "d1"
   ]
  },
  {
   "cell_type": "code",
   "execution_count": 7,
   "metadata": {},
   "outputs": [
    {
     "name": "stdout",
     "output_type": "stream",
     "text": [
      "RangeIndex(start=0, stop=3, step=1)\n",
      "Index(['Name', 'Physics', 'Chemistry'], dtype='object')\n",
      "[['mehul' 99 93]\n",
      " ['julian' 98 95]\n",
      " ['jane' 90 80]]\n",
      "<class 'numpy.ndarray'>\n"
     ]
    }
   ],
   "source": [
    "print(d1.index)\n",
    "print(d1.columns)\n",
    "v = d1.values\n",
    "print(v)\n",
    "print(type(v))"
   ]
  },
  {
   "cell_type": "code",
   "execution_count": 9,
   "metadata": {},
   "outputs": [
    {
     "data": {
      "text/html": [
       "<div>\n",
       "<style scoped>\n",
       "    .dataframe tbody tr th:only-of-type {\n",
       "        vertical-align: middle;\n",
       "    }\n",
       "\n",
       "    .dataframe tbody tr th {\n",
       "        vertical-align: top;\n",
       "    }\n",
       "\n",
       "    .dataframe thead th {\n",
       "        text-align: right;\n",
       "    }\n",
       "</style>\n",
       "<table border=\"1\" class=\"dataframe\">\n",
       "  <thead>\n",
       "    <tr style=\"text-align: right;\">\n",
       "      <th></th>\n",
       "      <th>Name</th>\n",
       "      <th>Physics</th>\n",
       "      <th>Chemistry</th>\n",
       "    </tr>\n",
       "  </thead>\n",
       "  <tbody>\n",
       "    <tr>\n",
       "      <th>10</th>\n",
       "      <td>mehul</td>\n",
       "      <td>99</td>\n",
       "      <td>93</td>\n",
       "    </tr>\n",
       "    <tr>\n",
       "      <th>23</th>\n",
       "      <td>julian</td>\n",
       "      <td>98</td>\n",
       "      <td>95</td>\n",
       "    </tr>\n",
       "    <tr>\n",
       "      <th>5</th>\n",
       "      <td>jane</td>\n",
       "      <td>90</td>\n",
       "      <td>80</td>\n",
       "    </tr>\n",
       "  </tbody>\n",
       "</table>\n",
       "</div>"
      ],
      "text/plain": [
       "      Name  Physics  Chemistry\n",
       "10   mehul       99         93\n",
       "23  julian       98         95\n",
       "5     jane       90         80"
      ]
     },
     "execution_count": 9,
     "metadata": {},
     "output_type": "execute_result"
    }
   ],
   "source": [
    "roll = [10, 23, 5]\n",
    "d2 = DataFrame(marks, index=roll)\n",
    "d2"
   ]
  },
  {
   "cell_type": "code",
   "execution_count": 14,
   "metadata": {},
   "outputs": [
    {
     "data": {
      "text/html": [
       "<div>\n",
       "<style scoped>\n",
       "    .dataframe tbody tr th:only-of-type {\n",
       "        vertical-align: middle;\n",
       "    }\n",
       "\n",
       "    .dataframe tbody tr th {\n",
       "        vertical-align: top;\n",
       "    }\n",
       "\n",
       "    .dataframe thead th {\n",
       "        text-align: right;\n",
       "    }\n",
       "</style>\n",
       "<table border=\"1\" class=\"dataframe\">\n",
       "  <thead>\n",
       "    <tr style=\"text-align: right;\">\n",
       "      <th></th>\n",
       "      <th>Physics</th>\n",
       "      <th>Chemistry</th>\n",
       "    </tr>\n",
       "  </thead>\n",
       "  <tbody>\n",
       "    <tr>\n",
       "      <th>10</th>\n",
       "      <td>99</td>\n",
       "      <td>93</td>\n",
       "    </tr>\n",
       "    <tr>\n",
       "      <th>23</th>\n",
       "      <td>98</td>\n",
       "      <td>95</td>\n",
       "    </tr>\n",
       "    <tr>\n",
       "      <th>5</th>\n",
       "      <td>90</td>\n",
       "      <td>80</td>\n",
       "    </tr>\n",
       "  </tbody>\n",
       "</table>\n",
       "</div>"
      ],
      "text/plain": [
       "    Physics  Chemistry\n",
       "10       99         93\n",
       "23       98         95\n",
       "5        90         80"
      ]
     },
     "execution_count": 14,
     "metadata": {},
     "output_type": "execute_result"
    }
   ],
   "source": [
    "d3 = DataFrame(marks, index=roll, columns=['Physics', 'Chemistry'])\n",
    "d3"
   ]
  },
  {
   "cell_type": "code",
   "execution_count": 25,
   "metadata": {},
   "outputs": [
    {
     "name": "stdout",
     "output_type": "stream",
     "text": [
      "      Name  Physics  Chemistry\n",
      "10   mehul       99         93\n",
      "23  julian       98         95\n",
      "5     jane       90         80\n",
      "Name         julian\n",
      "Physics          98\n",
      "Chemistry        95\n",
      "Name: 23, dtype: object\n",
      "     Name  Physics  Chemistry\n",
      "10  mehul       99         93\n",
      "5    jane       90         80\n",
      "Name         jane\n",
      "Physics        90\n",
      "Chemistry      80\n",
      "Name: 5, dtype: object\n"
     ]
    }
   ],
   "source": [
    "# indexing (row)\n",
    "print(d2)\n",
    "\n",
    "print(d2.loc[23])\n",
    "print(d2.loc[[10, 5]])\n",
    "\n",
    "print(d2.iloc[-1])"
   ]
  },
  {
   "cell_type": "code",
   "execution_count": 24,
   "metadata": {},
   "outputs": [
    {
     "name": "stdout",
     "output_type": "stream",
     "text": [
      "      Name  Physics  Chemistry\n",
      "10   mehul       99         93\n",
      "23  julian       98         95\n",
      "5     jane       90         80\n",
      "      Name  Physics  Chemistry\n",
      "23  julian       98         95\n",
      "5     jane       90         80\n",
      "      Name  Physics  Chemistry\n",
      "23  julian       98         95\n",
      "5     jane       90         80\n",
      "      Name  Physics  Chemistry\n",
      "10   mehul       99         93\n",
      "23  julian       98         95\n",
      "      Name  Physics  Chemistry\n",
      "10   mehul       99         93\n",
      "23  julian       98         95\n"
     ]
    }
   ],
   "source": [
    "# slicing\n",
    "print(d2)\n",
    "print(d2.iloc[-2:])\n",
    "print(d2.tail(2))\n",
    "\n",
    "print(d2.loc[10:23])\n",
    "print(d2.head(2))"
   ]
  },
  {
   "cell_type": "code",
   "execution_count": 37,
   "metadata": {},
   "outputs": [
    {
     "name": "stdout",
     "output_type": "stream",
     "text": [
      "      Name  Physics  Chemistry\n",
      "10   mehul       99         93\n",
      "23  julian       98         95\n",
      "5     jane       90         80\n",
      "    Physics  Chemistry\n",
      "10       99         93\n",
      "23       98         95\n",
      "5        90         80\n",
      "10     mehul\n",
      "23    julian\n",
      "5       jane\n",
      "Name: Name, dtype: object\n",
      "     Name  Chemistry\n",
      "10  mehul         93\n",
      "5    jane         80\n",
      "    Physics  Chemistry\n",
      "23       98         95\n",
      "5        90         80\n"
     ]
    }
   ],
   "source": [
    "# indexing columns\n",
    "print(d2)\n",
    "print(d2[['Physics', 'Chemistry']])\n",
    "print(d2['Name'])\n",
    "\n",
    "# indexing  by rows + columns\n",
    "nc = d2.loc[[10, 5], ['Name', 'Chemistry']]\n",
    "print(nc)\n",
    "\n",
    "# slice by row + index by columns\n",
    "pc = d2.iloc[-2:]\n",
    "pcc = pc[['Physics', 'Chemistry']]\n",
    "print(pcc)"
   ]
  },
  {
   "cell_type": "code",
   "execution_count": 42,
   "metadata": {},
   "outputs": [
    {
     "name": "stdout",
     "output_type": "stream",
     "text": [
      "      Name  Physics  Chemistry\n",
      "10   mehul       99         93\n",
      "23  julian       98         95\n",
      "5     jane       90         80\n",
      "23    100\n",
      "10     90\n",
      "5      95\n",
      "dtype: int64\n",
      "      Name  Physics  Chemistry  Mathematics\n",
      "10   mehul       99         93           90\n",
      "23  julian       98         95          100\n",
      "5     jane       90         80           95\n"
     ]
    }
   ],
   "source": [
    "print(d2)\n",
    "s = Series({23: 100, 10: 90, 5: 95})\n",
    "print(s)\n",
    "\n",
    "d2['Mathematics'] = s\n",
    "print(d2)"
   ]
  },
  {
   "cell_type": "code",
   "execution_count": 46,
   "metadata": {},
   "outputs": [
    {
     "name": "stdout",
     "output_type": "stream",
     "text": [
      "      Name  Physics  Chemistry  Mathematics\n",
      "10   mehul       99         93           90\n",
      "23  julian       98         95          100\n",
      "5     jane       90         80           95\n",
      "Physics        95.666667\n",
      "Chemistry      89.333333\n",
      "Mathematics    95.000000\n",
      "dtype: float64\n",
      "10    282\n",
      "23    293\n",
      "5     265\n",
      "dtype: int64\n"
     ]
    }
   ],
   "source": [
    "print(d2)\n",
    "print(d2.mean(axis=0))\n",
    "print(d2.sum(axis=1))"
   ]
  },
  {
   "cell_type": "code",
   "execution_count": 48,
   "metadata": {},
   "outputs": [
    {
     "name": "stdout",
     "output_type": "stream",
     "text": [
      "      Name  Physics  Chemistry  Mathematics\n",
      "10   mehul       99         93           90\n",
      "23  julian       98         95          100\n",
      "5     jane       90         80           95\n",
      "    Verbal  BasicMaths\n",
      "5      100          98\n",
      "23      99          90\n",
      "10      90          95\n"
     ]
    }
   ],
   "source": [
    "print(d2)\n",
    "r = [5, 23, 10]\n",
    "d3 = DataFrame({\n",
    "    'Verbal': [100, 99, 90],\n",
    "    'BasicMaths': [98, 90, 95]\n",
    "}, index=r)\n",
    "print(d3)"
   ]
  },
  {
   "cell_type": "code",
   "execution_count": 50,
   "metadata": {},
   "outputs": [
    {
     "name": "stdout",
     "output_type": "stream",
     "text": [
      "      Name  Physics  Chemistry  Mathematics  Verbal  BasicMaths\n",
      "10   mehul       99         93           90      90          95\n",
      "23  julian       98         95          100      99          90\n",
      "5     jane       90         80           95     100          98\n"
     ]
    }
   ],
   "source": [
    "d4 = pd.merge(d2, d3, left_index=True, right_index=True)\n",
    "print(d4)"
   ]
  },
  {
   "cell_type": "code",
   "execution_count": 58,
   "metadata": {},
   "outputs": [
    {
     "name": "stdout",
     "output_type": "stream",
     "text": [
      "    Physics  Chemistry  Mathematics  Verbal  BasicMaths\n",
      "10       99         93           90      90          95\n",
      "23       98         95          100      99          90\n",
      "5        90         80           95     100          98\n"
     ]
    },
    {
     "data": {
      "image/png": "[encoded data removed]",
      "text/plain": [
       "<Figure size 432x288 with 1 Axes>"
      ]
     },
     "metadata": {
      "needs_background": "light"
     },
     "output_type": "display_data"
    }
   ],
   "source": [
    "d5 = d4[['Physics', 'Chemistry', 'Mathematics', 'Verbal', 'BasicMaths']]\n",
    "print(d5)\n",
    "d5.plot(kind='bar')\n",
    "plt.autoscale()\n",
    "plt.savefig('/Users/mehul.chopra/Desktop/marks.jpg', format='jpg')"
   ]
  }
 ],
 "metadata": {
  "kernelspec": {
   "display_name": "Python 3",
   "language": "python",
   "name": "python3"
  },
  "language_info": {
   "codemirror_mode": {
    "name": "ipython",
    "version": 3
   },
   "file_extension": ".py",
   "mimetype": "text/x-python",
   "name": "python",
   "nbconvert_exporter": "python",
   "pygments_lexer": "ipython3",
   "version": "3.7.1"
  }
 },
 "nbformat": 4,
 "nbformat_minor": 2
}
