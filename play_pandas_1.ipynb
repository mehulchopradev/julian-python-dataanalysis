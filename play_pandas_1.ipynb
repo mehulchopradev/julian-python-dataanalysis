{
 "cells": [
  {
   "cell_type": "code",
   "execution_count": 4,
   "metadata": {},
   "outputs": [],
   "source": [
    "from pandas import Series\n",
    "import numpy as np"
   ]
  },
  {
   "cell_type": "code",
   "execution_count": 5,
   "metadata": {
    "scrolled": true
   },
   "outputs": [
    {
     "name": "stdout",
     "output_type": "stream",
     "text": [
      "0     4\n",
      "1     5\n",
      "2    10\n",
      "3     6\n",
      "4     4\n",
      "5     5\n",
      "6     5\n",
      "7     9\n",
      "dtype: int16\n",
      "<class 'pandas.core.series.Series'>\n"
     ]
    }
   ],
   "source": [
    "pointers = [4, 5, 10, 6, 4, 5, 5, 9]\n",
    "s1 = Series(pointers, dtype=np.int16)\n",
    "print(s1)\n",
    "print(type(s1))"
   ]
  },
  {
   "cell_type": "code",
   "execution_count": 6,
   "metadata": {},
   "outputs": [
    {
     "name": "stdout",
     "output_type": "stream",
     "text": [
      "1      4\n",
      "10     5\n",
      "5     10\n",
      "7      6\n",
      "3      4\n",
      "2      5\n",
      "11     5\n",
      "12     9\n",
      "dtype: int16\n",
      "<class 'pandas.core.series.Series'>\n"
     ]
    }
   ],
   "source": [
    "roll_nos = [1, 10, 5, 7, 3, 2, 11, 12]\n",
    "s2 = Series(pointers, index=roll_nos, dtype=np.int16)\n",
    "print(s2)\n",
    "print(type(s2))"
   ]
  },
  {
   "cell_type": "code",
   "execution_count": 7,
   "metadata": {},
   "outputs": [
    {
     "name": "stdout",
     "output_type": "stream",
     "text": [
      "10     4\n",
      "23    10\n",
      "2      5\n",
      "5      6\n",
      "9     10\n",
      "dtype: int16\n",
      "<class 'pandas.core.series.Series'>\n"
     ]
    }
   ],
   "source": [
    "sd = {10: 4, 23: 10, 2: 5, 5: 6, 9: 10}\n",
    "s3 = Series(sd, dtype=np.int16)\n",
    "print(s3)\n",
    "print(type(s3))"
   ]
  },
  {
   "cell_type": "code",
   "execution_count": 11,
   "metadata": {},
   "outputs": [
    {
     "name": "stdout",
     "output_type": "stream",
     "text": [
      "1      4\n",
      "10     5\n",
      "5     10\n",
      "7      6\n",
      "3      4\n",
      "2      5\n",
      "11     5\n",
      "12     9\n",
      "dtype: int16\n",
      "Int64Index([1, 10, 5, 7, 3, 2, 11, 12], dtype='int64')\n",
      "[ 4  5 10  6  4  5  5  9]\n",
      "<class 'numpy.ndarray'>\n"
     ]
    }
   ],
   "source": [
    "print(s2)\n",
    "print(s2.index)\n",
    "v = s2.values\n",
    "print(v)\n",
    "print(type(v))"
   ]
  },
  {
   "cell_type": "code",
   "execution_count": 19,
   "metadata": {},
   "outputs": [
    {
     "name": "stdout",
     "output_type": "stream",
     "text": [
      "1      4\n",
      "10     5\n",
      "5     10\n",
      "7      6\n",
      "3      4\n",
      "2      5\n",
      "11     5\n",
      "12     9\n",
      "dtype: int16\n",
      "6\n",
      "5\n",
      "10    5\n",
      "2     5\n",
      "11    5\n",
      "dtype: int16\n",
      "<class 'pandas.core.series.Series'>\n",
      "4\n",
      "9\n",
      "1      4\n",
      "10     5\n",
      "5     10\n",
      "7      8\n",
      "3      4\n",
      "2      5\n",
      "11     5\n",
      "12     9\n",
      "dtype: int16\n"
     ]
    }
   ],
   "source": [
    "# indexing\n",
    "print(s2)\n",
    "# index on basis of rollno\n",
    "print(s2.loc[7])\n",
    "print(s2.loc[11])\n",
    "ss = s2.loc[[10, 2, 11]]\n",
    "print(ss)\n",
    "print(type(ss))\n",
    "\n",
    "# index on basis of the implicit 0 based index\n",
    "print(s2.iloc[0])\n",
    "print(s2.iloc[-1])\n",
    "\n",
    "# indexing + assignment\n",
    "s2.loc[7] = 8\n",
    "print(s2)"
   ]
  },
  {
   "cell_type": "code",
   "execution_count": 23,
   "metadata": {},
   "outputs": [
    {
     "name": "stdout",
     "output_type": "stream",
     "text": [
      "1      4\n",
      "10     5\n",
      "5     10\n",
      "7      8\n",
      "3      4\n",
      "2      5\n",
      "11     5\n",
      "12     9\n",
      "dtype: int16\n",
      "1     False\n",
      "10    False\n",
      "5      True\n",
      "7      True\n",
      "3     False\n",
      "2     False\n",
      "11    False\n",
      "12     True\n",
      "dtype: bool\n",
      "5     10\n",
      "7      8\n",
      "12     9\n",
      "dtype: int16\n"
     ]
    }
   ],
   "source": [
    "# filtering\n",
    "print(s2)\n",
    "print(s2 > 5) # boolean series\n",
    "\n",
    "print(s2.loc[s2 > 5]) # print(s2.loc[[5, 7, 12]])\n",
    "\n",
    "s2.loc[3] = 6\n",
    "s2.loc[11] = 8"
   ]
  },
  {
   "cell_type": "code",
   "execution_count": 29,
   "metadata": {},
   "outputs": [
    {
     "name": "stdout",
     "output_type": "stream",
     "text": [
      "1      4\n",
      "10     5\n",
      "5     10\n",
      "7      8\n",
      "3      6\n",
      "2      5\n",
      "11     8\n",
      "12     9\n",
      "dtype: int16\n",
      "1     False\n",
      "10    False\n",
      "5      True\n",
      "7      True\n",
      "3      True\n",
      "2     False\n",
      "11     True\n",
      "12    False\n",
      "dtype: bool\n",
      "5     10\n",
      "7      8\n",
      "3      6\n",
      "11     8\n",
      "dtype: int16\n"
     ]
    }
   ],
   "source": [
    "print(s2)\n",
    "print((s2 % 2 == 0) & (s2 > 5))\n",
    "\n",
    "print(s2.loc[(s2 % 2 == 0) & (s2 > 5)])"
   ]
  },
  {
   "cell_type": "code",
   "execution_count": 32,
   "metadata": {},
   "outputs": [
    {
     "name": "stdout",
     "output_type": "stream",
     "text": [
      "1      4\n",
      "10     5\n",
      "5     10\n",
      "7      8\n",
      "3      6\n",
      "2      5\n",
      "11     8\n",
      "12     9\n",
      "dtype: int16\n",
      "2     5\n",
      "11    8\n",
      "12    9\n",
      "dtype: int16\n",
      "1      4\n",
      "10     5\n",
      "5     10\n",
      "dtype: int16\n"
     ]
    }
   ],
   "source": [
    "print(s2)\n",
    "# slicing\n",
    "# give me a series of the last 3 pointers\n",
    "# implict index slicing\n",
    "print(s2.iloc[-3:])\n",
    "\n",
    "# explicit index slicing\n",
    "print(s2.loc[1:5]) # end index is inclusive"
   ]
  },
  {
   "cell_type": "code",
   "execution_count": 34,
   "metadata": {},
   "outputs": [
    {
     "name": "stdout",
     "output_type": "stream",
     "text": [
      "1      4\n",
      "10     5\n",
      "5     10\n",
      "7      8\n",
      "3      6\n",
      "2      5\n",
      "11     8\n",
      "12     9\n",
      "dtype: int16\n",
      "1      4\n",
      "10     5\n",
      "5     10\n",
      "7      8\n",
      "3      6\n",
      "2      0\n",
      "11     0\n",
      "12     0\n",
      "dtype: int16\n"
     ]
    }
   ],
   "source": [
    "print(s2)\n",
    "# slicing + assignment\n",
    "s2.iloc[-3:] = 0\n",
    "print(s2)"
   ]
  },
  {
   "cell_type": "code",
   "execution_count": 37,
   "metadata": {},
   "outputs": [
    {
     "name": "stdout",
     "output_type": "stream",
     "text": [
      "1      4\n",
      "10     5\n",
      "5     10\n",
      "dtype: int16\n",
      "3     6\n",
      "2     0\n",
      "11    0\n",
      "12    0\n",
      "dtype: int16\n"
     ]
    }
   ],
   "source": [
    "# oop slicing functions\n",
    "print(s2.head(3))\n",
    "print(s2.tail(4))"
   ]
  },
  {
   "cell_type": "code",
   "execution_count": 44,
   "metadata": {},
   "outputs": [
    {
     "name": "stdout",
     "output_type": "stream",
     "text": [
      "4.125\n",
      "3.8706773124535787\n",
      "14.982142857142858\n",
      "10\n",
      "1      4\n",
      "10     9\n",
      "5     19\n",
      "7     27\n",
      "3     33\n",
      "2     33\n",
      "11    33\n",
      "12    33\n",
      "dtype: int64\n",
      "mean    4.125000\n",
      "std     3.870677\n",
      "dtype: float64\n"
     ]
    }
   ],
   "source": [
    "# aggregation\n",
    "print(s2.mean())\n",
    "print(s2.std())\n",
    "print(s2.var())\n",
    "print(s2.max())\n",
    "print(s2.cumsum())\n",
    "\n",
    "d = s2.describe()\n",
    "print(d.loc[['mean', 'std']])"
   ]
  },
  {
   "cell_type": "code",
   "execution_count": 49,
   "metadata": {},
   "outputs": [
    {
     "name": "stdout",
     "output_type": "stream",
     "text": [
      "1      4\n",
      "10     5\n",
      "5     10\n",
      "7      8\n",
      "3      6\n",
      "2      0\n",
      "11     8\n",
      "12     9\n",
      "dtype: int16\n",
      "0     1\n",
      "4     1\n",
      "5     1\n",
      "6     1\n",
      "9     1\n",
      "10    1\n",
      "8     2\n",
      "dtype: int64\n"
     ]
    }
   ],
   "source": [
    "s2.loc[11] = 8\n",
    "s2.loc[12] = 9\n",
    "print(s2)\n",
    "vc = s2.value_counts(ascending=True)\n",
    "print(vc)"
   ]
  },
  {
   "cell_type": "code",
   "execution_count": 54,
   "metadata": {},
   "outputs": [
    {
     "name": "stdout",
     "output_type": "stream",
     "text": [
      "1      4\n",
      "10     5\n",
      "5     10\n",
      "7      8\n",
      "3      6\n",
      "2      0\n",
      "11     8\n",
      "12     9\n",
      "dtype: int16\n",
      "5     10\n",
      "12     9\n",
      "11     8\n",
      "7      8\n",
      "3      6\n",
      "10     5\n",
      "1      4\n",
      "2      0\n",
      "dtype: int16\n",
      "1      4\n",
      "2      0\n",
      "3      6\n",
      "5     10\n",
      "7      8\n",
      "10     5\n",
      "11     8\n",
      "12     9\n",
      "dtype: int16\n"
     ]
    }
   ],
   "source": [
    "print(s2)\n",
    "sos = s2.sort_values(ascending=False)\n",
    "print(sos)\n",
    "\n",
    "sis = s2.sort_index()\n",
    "print(sis)"
   ]
  },
  {
   "cell_type": "code",
   "execution_count": 59,
   "metadata": {},
   "outputs": [
    {
     "name": "stdout",
     "output_type": "stream",
     "text": [
      "10     4\n",
      "23    10\n",
      "2      5\n",
      "5      6\n",
      "9     10\n",
      "dtype: int16\n",
      "2      6\n",
      "5      5\n",
      "9      3\n",
      "23    10\n",
      "10     5\n",
      "dtype: int16\n",
      "2     11\n",
      "5     11\n",
      "9     13\n",
      "10     9\n",
      "23    20\n",
      "dtype: int16\n",
      "5     5\n",
      "9     5\n",
      "10    8\n",
      "dtype: int16\n",
      "2      NaN\n",
      "5     16.0\n",
      "9     18.0\n",
      "10    17.0\n",
      "23     NaN\n",
      "dtype: float64\n"
     ]
    }
   ],
   "source": [
    "print(s3)\n",
    "s4 = Series({2: 6, 5: 5, 9: 3, 23: 10, 10: 5}, dtype=np.int16)\n",
    "print(s4)\n",
    "\n",
    "s5 = s3 + s4\n",
    "print(s5)\n",
    "\n",
    "s6 = Series({5: 5, 9: 5, 10: 8}, dtype=np.int16)\n",
    "print(s6)\n",
    "\n",
    "s7 = s5 + s6\n",
    "print(s7)"
   ]
  },
  {
   "cell_type": "code",
   "execution_count": 60,
   "metadata": {},
   "outputs": [
    {
     "name": "stdout",
     "output_type": "stream",
     "text": [
      "2     11.0\n",
      "5     16.0\n",
      "9     18.0\n",
      "10    17.0\n",
      "23    20.0\n",
      "dtype: float64\n"
     ]
    }
   ],
   "source": [
    "s8 = s5.add(s6, fill_value=0)\n",
    "print(s8)"
   ]
  },
  {
   "cell_type": "code",
   "execution_count": 61,
   "metadata": {},
   "outputs": [
    {
     "name": "stdout",
     "output_type": "stream",
     "text": [
      "0430    32.0\n",
      "0432    32.0\n",
      "0450    33.0\n",
      "0451     NaN\n",
      "0500    33.5\n",
      "dtype: float64\n"
     ]
    }
   ],
   "source": [
    "s9 = Series([32, 32, 33, None, 33.5], index=['0430','0432','0450','0451','0500'])\n",
    "print(s9)"
   ]
  },
  {
   "cell_type": "code",
   "execution_count": 63,
   "metadata": {},
   "outputs": [
    {
     "name": "stdout",
     "output_type": "stream",
     "text": [
      "0430    32.0\n",
      "0432    32.0\n",
      "0450    33.0\n",
      "0500    33.5\n",
      "dtype: float64\n",
      "0430    32.0\n",
      "0432    32.0\n",
      "0450    33.0\n",
      "0451     NaN\n",
      "0500    33.5\n",
      "dtype: float64\n"
     ]
    }
   ],
   "source": [
    "# bad data\n",
    "s10 = s9.dropna()\n",
    "print(s10)\n",
    "print(s9)"
   ]
  },
  {
   "cell_type": "code",
   "execution_count": 64,
   "metadata": {},
   "outputs": [
    {
     "name": "stdout",
     "output_type": "stream",
     "text": [
      "0430    32.0\n",
      "0432    32.0\n",
      "0450    33.0\n",
      "0451    33.0\n",
      "0500    33.5\n",
      "dtype: float64\n"
     ]
    }
   ],
   "source": [
    "s11 = s9.ffill()\n",
    "print(s11)"
   ]
  }
 ],
 "metadata": {
  "kernelspec": {
   "display_name": "Python 3",
   "language": "python",
   "name": "python3"
  },
  "language_info": {
   "codemirror_mode": {
    "name": "ipython",
    "version": 3
   },
   "file_extension": ".py",
   "mimetype": "text/x-python",
   "name": "python",
   "nbconvert_exporter": "python",
   "pygments_lexer": "ipython3",
   "version": "3.7.1"
  }
 },
 "nbformat": 4,
 "nbformat_minor": 2
}
